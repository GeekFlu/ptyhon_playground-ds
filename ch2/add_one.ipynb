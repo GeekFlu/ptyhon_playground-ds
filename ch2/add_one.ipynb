{
 "cells": [
  {
   "cell_type": "markdown",
   "metadata": {
    "collapsed": true,
    "pycharm": {
     "name": "#%% md\n"
    }
   },
   "source": [
    "### Problem Statement\n",
    "\n",
    "You are given a non-negative number in the form of list elements. For example, the number `123` would be provided as `arr = [1, 2, 3]`. Add one to the number and return the output in the form of a new list.\n",
    "\n",
    "**Example 1:**\n",
    "* `input = [1, 2, 3]`\n",
    "* `output = [1, 2, 4]`\n",
    "\n",
    "\n",
    "**Example 2:**\n",
    "* `input = [1, 2, 9]`\n",
    "* `output = [1, 3, 0]`\n",
    "\n",
    "**Example 3:**\n",
    "* `input = [9, 9, 9]`\n",
    "* `output = [1, 0, 0, 0]`\n",
    "\n",
    "\n",
    "**Challenge:**\n",
    "One way to solve this problem is to convert the input array into a number and then add one to it. For example, if we have `input = [1, 2, 3]`, you could solve this problem by creating the number `123` and then separating the digits of the output number `124`.\n",
    "\n",
    "But can you solve it in some other way?\n",
    "\n",
    "### Exercise - Write your function definition here.\n",
    "**Note** - Try proposing a non-recursive solution. We will see a recursive solution in the next lesson \"Recursion\"."
   ]
  },
  {
   "cell_type": "code",
   "execution_count": 1,
   "outputs": [],
   "source": [
    "def add_one(arr):\n",
    "    \"\"\"\n",
    "    :param: arr - list of digits representing some number x\n",
    "    return a list with digits represengint (x + 1)\n",
    "    \"\"\"\n",
    "    r_arr = []\n",
    "    size = len(arr)\n",
    "    num = 0\n",
    "    exp = size - 1\n",
    "    for i in range(size):\n",
    "        num += arr[i] * (10 ** exp)\n",
    "        exp -= 1\n",
    "    num += 1\n",
    "    size = len(str(num))\n",
    "    exp = size - 1\n",
    "    for i in range(size):\n",
    "        n_num = num // 10 ** exp\n",
    "        r_arr.append(n_num)\n",
    "        num = num % 10 ** exp\n",
    "        exp -= 1\n",
    "    return r_arr"
   ],
   "metadata": {
    "collapsed": false,
    "pycharm": {
     "name": "#%%\n"
    }
   }
  },
  {
   "cell_type": "code",
   "execution_count": 6,
   "outputs": [
    {
     "name": "stdout",
     "output_type": "stream",
     "text": [
      "[1, 0, 0, 0, 0, 0, 0, 0, 0, 0]\n"
     ]
    }
   ],
   "source": [
    "arr = [9,9,9,9,9,9,9,9,9]\n",
    "print(add_one(arr))"
   ],
   "metadata": {
    "collapsed": false,
    "pycharm": {
     "name": "#%%\n"
    }
   }
  }
 ],
 "metadata": {
  "kernelspec": {
   "display_name": "Python 3",
   "language": "python",
   "name": "python3"
  },
  "language_info": {
   "codemirror_mode": {
    "name": "ipython",
    "version": 2
   },
   "file_extension": ".py",
   "mimetype": "text/x-python",
   "name": "python",
   "nbconvert_exporter": "python",
   "pygments_lexer": "ipython2",
   "version": "2.7.6"
  }
 },
 "nbformat": 4,
 "nbformat_minor": 0
}